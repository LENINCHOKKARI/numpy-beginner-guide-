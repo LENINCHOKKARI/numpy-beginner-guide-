{
 "cells": [
  {
   "cell_type": "markdown",
   "metadata": {},
   "source": [
    "# 🔢 NumPy Basics Examples\n",
    "\n",
    "Welcome to NumPy! This notebook contains real-world examples to help you master the fundamentals of NumPy.\n",
    "\n",
    "## What You'll Learn\n",
    "- Array creation techniques\n",
    "- Mathematical operations\n",
    "- Real-world data analysis\n",
    "- Best practices for NumPy usage\n",
    "\n",
    "Let's get started! 🚀"
   ]
  },
  {
   "cell_type": "code",
   "execution_count": null,
   "metadata": {},
   "outputs": [],
   "source": [
    "# Import required libraries\n",
    "import numpy as np\n",
    "import matplotlib.pyplot as plt\n",
    "\n",
    "print(\"NumPy version:\", np.__version__)"
   ]
  },
  {
   "cell_type": "markdown",
   "metadata": {},
   "source": [
    "## 📊 Array Creation Examples\n",
    "\n",
    "NumPy arrays are the foundation of scientific computing in Python. Let's explore different ways to create them."
   ]
  },
  {
   "cell_type": "code",
   "execution_count": null,
   "metadata": {},
   "outputs": [],
   "source": [
    "print(\"=== Array Creation Examples ===\")\n",
    "\n",
    "# From lists - the most common way\n",
    "arr1 = np.array([1, 2, 3, 4, 5])\n",
    "print(f\"From list: {arr1}\")\n",
    "print(f\"Array shape: {arr1.shape}\")\n",
    "print(f\"Array data type: {arr1.dtype}\")"
   ]
  },
  {
   "cell_type": "code",
   "execution_count": null,
   "metadata": {},
   "outputs": [],
   "source": [
    "# Using built-in functions\n",
    "zeros = np.zeros(5)\n",
    "ones = np.ones((3, 3))\n",
    "range_arr = np.arange(0, 10, 2)\n",
    "linspace_arr = np.linspace(0, 1, 5)\n",
    "\n",
    "print(f\"Zeros array: {zeros}\")\n",
    "print(f\"Ones matrix:\\n{ones}\")\n",
    "print(f\"Range array: {range_arr}\")\n",
    "print(f\"Linspace array: {linspace_arr}\")"
   ]
  },
  {
   "cell_type": "code",
   "execution_count": null,
   "metadata": {},
   "outputs": [],
   "source": [
    "# More advanced array creation\n",
    "identity = np.eye(3)  # Identity matrix\n",
    "random_arr = np.random.random(5)  # Random numbers between 0 and 1\n",
    "random_int = np.random.randint(1, 10, 5)  # Random integers\n",
    "\n",
    "print(f\"Identity matrix:\\n{identity}\")\n",
    "print(f\"Random array: {random_arr}\")\n",
    "print(f\"Random integers: {random_int}\")"
   ]
  },
  {
   "cell_type": "markdown",
   "metadata": {},
   "source": [
    "## 🧮 Mathematical Operations\n",
    "\n",
    "NumPy's power comes from its ability to perform mathematical operations on entire arrays efficiently."
   ]
  },
  {
   "cell_type": "code",
   "execution_count": null,
   "metadata": {},
   "outputs": [],
   "source": [
    "print(\"=== Mathematical Operations ===\")\n",
    "\n",
    "# Create sample arrays\n",
    "a = np.array([1, 2, 3, 4, 5])\n",
    "b = np.array([10, 20, 30, 40, 50])\n",
    "\n",
    "print(f\"Array a: {a}\")\n",
    "print(f\"Array b: {b}\")"
   ]
  },
  {
   "cell_type": "code",
   "execution_count": null,
   "metadata": {},
   "outputs": [],
   "source": [
    "# Element-wise operations\n",
    "print(f\"Addition (a + b): {a + b}\")\n",
    "print(f\"Subtraction (a - b): {a - b}\")\n",
    "print(f\"Multiplication (a * b): {a * b}\")\n",
    "print(f\"Division (b / a): {b / a}\")\n",
    "print(f\"Power (a ** 2): {a ** 2}\")"
   ]
  },
  {
   "cell_type": "code",
   "execution_count": null,
   "metadata": {},
   "outputs": [],
   "source": [
    "# Mathematical functions\n",
    "print(f\"Square root of a: {np.sqrt(a)}\")\n",
    "print(f\"Exponential of a: {np.exp(a)}\")\n",
    "print(f\"Natural log of a: {np.log(a)}\")\n",
    "print(f\"Sine of a: {np.sin(a)}\")"
   ]
  },
  {
   "cell_type": "code",
   "execution_count": null,
   "metadata": {},
   "outputs": [],
   "source": [
    "# Statistical operations\n",
    "print(f\"Mean of a: {np.mean(a)}\")\n",
    "print(f\"Median of a: {np.median(a)}\")\n",
    "print(f\"Standard deviation of a: {np.std(a)}\")\n",
    "print(f\"Variance of a: {np.var(a)}\")\n",
    "print(f\"Sum of a: {np.sum(a)}\")\n",
    "print(f\"Min of a: {np.min(a)}\")\n",
    "print(f\"Max of a: {np.max(a)}\")"
   ]
  },
  {
   "cell_type": "markdown",
   "metadata": {},
   "source": [
    "## 🌡️ Real-World Example: Temperature Analysis\n",
    "\n",
    "Let's apply NumPy to analyze a week's worth of temperature data - a common real-world scenario!"
   ]
  },
  {
   "cell_type": "code",
   "execution_count": null,
   "metadata": {},
   "outputs": [],
   "source": [
    "print(\"=== Real-World Example: Temperature Analysis ===\")\n",
    "\n",
    "# Simulate temperature data for a week (in Celsius)\n",
    "temperatures = np.array([22, 25, 28, 30, 27, 24, 21])\n",
    "days = np.array(['Mon', 'Tue', 'Wed', 'Thu', 'Fri', 'Sat', 'Sun'])\n",
    "\n",
    "print(f\"Daily temperatures: {temperatures}°C\")\n",
    "print(f\"Days: {days}\")"
   ]
  },
  {
   "cell_type": "code",
   "execution_count": null,
   "metadata": {},
   "outputs": [],
   "source": [
    "# Temperature analysis\n",
    "avg_temp = np.mean(temperatures)\n",
    "max_temp = np.max(temperatures)\n",
    "min_temp = np.min(temperatures)\n",
    "hottest_day = days[np.argmax(temperatures)]\n",
    "coldest_day = days[np.argmin(temperatures)]\n",
    "\n",
    "print(f\"Average temperature: {avg_temp:.1f}°C\")\n",
    "print(f\"Hottest day: {hottest_day} ({max_temp}°C)\")\n",
    "print(f\"Coldest day: {coldest_day} ({min_temp}°C)\")\n",
    "print(f\"Temperature range: {max_temp - min_temp}°C\")\n",
    "print(f\"Temperature standard deviation: {np.std(temperatures):.2f}°C\")"
   ]
  },
  {
   "cell_type": "code",
   "execution_count": null,
   "metadata": {},
   "outputs": [],
   "source": [
    "# Find days above/below average\n",
    "above_avg = temperatures > avg_temp\n",
    "below_avg = temperatures < avg_temp\n",
    "\n",
    "print(f\"Days above average: {days[above_avg]}\")\n",
    "print(f\"Days below average: {days[below_avg]}\")\n",
    "print(f\"Temperatures above average: {temperatures[above_avg]}°C\")"
   ]
  },
  {
   "cell_type": "code",
   "execution_count": null,
   "metadata": {},
   "outputs": [],
   "source": [
    "# Create a simple visualization\n",
    "plt.figure(figsize=(10, 6))\n",
    "plt.plot(days, temperatures, marker='o', linewidth=2, markersize=8)\n",
    "plt.axhline(y=avg_temp, color='red', linestyle='--', label=f'Average ({avg_temp:.1f}°C)')\n",
    "plt.title('Weekly Temperature Analysis', fontsize=16)\n",
    "plt.xlabel('Day of Week', fontsize=12)\n",
    "plt.ylabel('Temperature (°C)', fontsize=12)\n",
    "plt.grid(True, alpha=0.3)\n",
    "plt.legend()\n",
    "plt.tight_layout()\n",
    "plt.show()\n",
    "\n",
    "print(\"📊 Temperature visualization created!\")"
   ]
  },
  {
   "cell_type": "markdown",
   "metadata": {},
   "source": [
    "## 🎯 Practice Exercises\n",
    "\n",
    "Try these exercises to reinforce your learning:"
   ]
  },
  {
   "cell_type": "code",
   "execution_count": null,
   "metadata": {},
   "outputs": [],
   "source": [
    "# Exercise 1: Create a 2D array representing a multiplication table\n",
    "print(\"Exercise 1: Multiplication Table\")\n",
    "# Your code here\n",
    "size = 5\n",
    "mult_table = np.outer(np.arange(1, size+1), np.arange(1, size+1))\n",
    "print(f\"5x5 Multiplication table:\\n{mult_table}\")"
   ]
  },
  {
   "cell_type": "code",
   "execution_count": null,
   "metadata": {},
   "outputs": [],
   "source": [
    "# Exercise 2: Analyze sales data\n",
    "print(\"\\nExercise 2: Sales Data Analysis\")\n",
    "monthly_sales = np.array([15000, 18000, 22000, 19000, 25000, 21000, 23000, 26000, 24000, 28000, 30000, 32000])\n",
    "months = np.array(['Jan', 'Feb', 'Mar', 'Apr', 'May', 'Jun', 'Jul', 'Aug', 'Sep', 'Oct', 'Nov', 'Dec'])\n",
    "\n",
    "# Your analysis here\n",
    "print(f\"Total annual sales: ${np.sum(monthly_sales):,}\")\n",
    "print(f\"Average monthly sales: ${np.mean(monthly_sales):,.0f}\")\n",
    "print(f\"Best month: {months[np.argmax(monthly_sales)]} (${np.max(monthly_sales):,})\")\n",
    "print(f\"Growth from Jan to Dec: {((monthly_sales[-1] - monthly_sales[0]) / monthly_sales[0] * 100):.1f}%\")"
   ]
  },
  {
   "cell_type": "markdown",
   "metadata": {},
   "source": [
    "## 🎉 Congratulations!\n",
    "\n",
    "You've completed the NumPy basics tutorial! You now know how to:\n",
    "\n",
    "✅ Create arrays in multiple ways  \n",
    "✅ Perform mathematical operations efficiently  \n",
    "✅ Analyze real-world data  \n",
    "✅ Use boolean indexing for filtering  \n",
    "✅ Create basic visualizations  \n",
    "\n",
    "## 🚀 Next Steps\n",
    "\n",
    "1. Explore the `pandas_basics.ipynb` notebook\n",
    "2. Try the hands-on projects in the `projects/` folder\n",
    "3. Practice with the datasets in the `datasets/` folder\n",
    "4. Check out advanced NumPy features like broadcasting and fancy indexing\n",
    "\n",
    "Keep practicing and happy coding! 🐍✨"
   ]
  }
 ],
 "metadata": {
  "kernelspec": {
   "display_name": "Python 3",
   "language": "python",
   "name": "python3"
  },
  "language_info": {
   "codemirror_mode": {
    "name": "ipython",
    "version": 3
   },
   "file_extension": ".py",
   "mimetype": "text/x-python",
   "name": "python",
   "nbconvert_exporter": "python",
   "pygments_lexer": "ipython3",
   "version": "3.8.5"
  }
 },
 "nbformat": 4,
 "nbformat_minor": 4
}